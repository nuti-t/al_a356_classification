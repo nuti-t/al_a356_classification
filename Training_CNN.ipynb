{
 "cells": [
  {
   "cell_type": "code",
   "execution_count": 2,
   "metadata": {},
   "outputs": [],
   "source": [
    "# Importing a important libraries\n",
    "\n",
    "import os, random \n",
    "import numpy as np\n",
    "import cv2\n",
    "from tensorflow.keras.utils import to_categorical"
   ]
  },
  {
   "cell_type": "code",
   "execution_count": 3,
   "metadata": {},
   "outputs": [],
   "source": [
    "img_arr = list()\n",
    "label_arr = list()"
   ]
  },
  {
   "cell_type": "code",
   "execution_count": 4,
   "metadata": {},
   "outputs": [
    {
     "name": "stdout",
     "output_type": "stream",
     "text": [
      "Sample larger than population or is negative\n",
      "[WinError 267] The directory name is invalid: 'heatmap.png'\n",
      "[WinError 267] The directory name is invalid: 'image_aug.png'\n",
      "[WinError 267] The directory name is invalid: 'Lab6_Homework.ipynb'\n",
      "[WinError 267] The directory name is invalid: 'model_best_weight.data-00000-of-00001'\n",
      "[WinError 267] The directory name is invalid: 'model_best_weight.index'\n",
      "[WinError 267] The directory name is invalid: 'my_best_model.epoch01-accuracy0.21.hdf5'\n",
      "[WinError 267] The directory name is invalid: 'my_best_model.epoch06-accuracy0.24.hdf5'\n",
      "[WinError 267] The directory name is invalid: 'my_best_model.epoch08-accuracy0.52.hdf5'\n",
      "[WinError 267] The directory name is invalid: 'my_best_model.epoch11-accuracy0.54.hdf5'\n",
      "[WinError 267] The directory name is invalid: 'my_best_model.epoch123-accuracy0.90.hdf5'\n",
      "[WinError 267] The directory name is invalid: 'my_best_model.epoch16-accuracy0.57.hdf5'\n",
      "[WinError 267] The directory name is invalid: 'my_best_model.epoch17-accuracy0.69.hdf5'\n",
      "[WinError 267] The directory name is invalid: 'my_best_model.epoch22-accuracy0.76.hdf5'\n",
      "[WinError 267] The directory name is invalid: 'my_best_model.epoch274-accuracy0.94.hdf5'\n",
      "[WinError 267] The directory name is invalid: 'my_best_model.epoch32-accuracy0.79.hdf5'\n",
      "[WinError 267] The directory name is invalid: 'my_best_model.epoch36-accuracy0.83.hdf5'\n",
      "[WinError 267] The directory name is invalid: 'my_best_model.epoch37-accuracy0.85.hdf5'\n",
      "[WinError 267] The directory name is invalid: 'my_best_model.epoch607-accuracy0.94.hdf5'\n",
      "[WinError 267] The directory name is invalid: 'my_best_model.epoch701-accuracy0.95.hdf5'\n",
      "[WinError 267] The directory name is invalid: 'my_best_model.epoch719-accuracy0.96.hdf5'\n",
      "[WinError 267] The directory name is invalid: 'my_best_model.epoch943-accuracy0.96.hdf5'\n",
      "[WinError 267] The directory name is invalid: 'output.png'\n",
      "[WinError 267] The directory name is invalid: 'output_2.png'\n",
      "[WinError 267] The directory name is invalid: 'out_img.png'\n",
      "Sample larger than population or is negative\n",
      "[WinError 267] The directory name is invalid: 'plot_img.ipynb'\n",
      "[WinError 267] The directory name is invalid: 'roc_curve.png'\n",
      "[WinError 267] The directory name is invalid: 'Training_CNN.ipynb'\n"
     ]
    }
   ],
   "source": [
    "# Reading file from dataset\n",
    "\n",
    "for path in os.listdir():\n",
    "    try:\n",
    "        rnd_idx = random.sample(np.arange(len(os.listdir(path)) - 1).tolist(),900)\n",
    "        for idx in rnd_idx:\n",
    "            img = cv2.imread(path+\"/\"+os.listdir(path)[idx])\n",
    "            img = img[:512, :512]\n",
    "            img = cv2.resize(img,(150,150))\n",
    "            img = cv2.cvtColor(img, cv2.COLOR_BGR2GRAY)\n",
    "            img_arr.append(img)\n",
    "            label_arr.append(int(path))\n",
    "    except Exception as e:\n",
    "        print(e)\n",
    "\n",
    "# Change Dataset to numpy array\n",
    "img_arr = np.array(img_arr)\n",
    "\n",
    "# Data normalization\n",
    "img_arr = np.expand_dims(img_arr, -1) / 255.\n",
    "\n",
    "label_arr = np.array(label_arr) - 1\n",
    "\n",
    "# Changing label to one-hot encoded\n",
    "label_arr = to_categorical(label_arr)"
   ]
  },
  {
   "cell_type": "code",
   "execution_count": 5,
   "metadata": {},
   "outputs": [
    {
     "data": {
      "text/plain": [
       "(4500, 150, 150, 1)"
      ]
     },
     "execution_count": 5,
     "metadata": {},
     "output_type": "execute_result"
    }
   ],
   "source": [
    "img_arr.shape"
   ]
  },
  {
   "cell_type": "code",
   "execution_count": 6,
   "metadata": {},
   "outputs": [
    {
     "name": "stdout",
     "output_type": "stream",
     "text": [
      "(3015, 150, 150, 1) (1485, 150, 150, 1) (3015, 5) (1485, 5)\n"
     ]
    }
   ],
   "source": [
    "from sklearn.model_selection import train_test_split\n",
    "\n",
    "\n",
    "# Train test split\n",
    "x_train, x_test, y_train, y_test = train_test_split(img_arr, label_arr, test_size= 0.33,random_state=42)\n",
    "print(x_train.shape, x_test.shape, y_train.shape, y_test.shape)\n",
    "\n",
    "del img_arr, label_arr"
   ]
  },
  {
   "cell_type": "code",
   "execution_count": 7,
   "metadata": {},
   "outputs": [],
   "source": [
    "from tensorflow.keras.preprocessing.image import ImageDataGenerator\n",
    "\n",
    "# Assgining Imagedatagenerator for image augmentation.\n",
    "\n",
    "train_datagen = ImageDataGenerator(rescale=1.,\n",
    "                                  rotation_range=40,\n",
    "                                  width_shift_range=0.1,\n",
    "                                  height_shift_range=0.1,\n",
    "                                  zoom_range=0.2,\n",
    "                                  horizontal_flip=True, vertical_flip=True,validation_split=0.2)\n"
   ]
  },
  {
   "cell_type": "code",
   "execution_count": 8,
   "metadata": {},
   "outputs": [],
   "source": [
    "# Apply Imagedatagenerator to training set\n",
    "\n",
    "train_generator = train_datagen.flow(x_train,y_train,batch_size = 50, subset = 'training')\n",
    "\n",
    "# Apply Imagedatagenerator to testing set\n",
    "val_generator = train_datagen.flow(x_train,y_train,batch_size = 50, subset = 'validation')"
   ]
  },
  {
   "cell_type": "code",
   "execution_count": 9,
   "metadata": {},
   "outputs": [],
   "source": [
    "from tensorflow.keras.models import Sequential\n",
    "from tensorflow.keras.layers import Conv2D, MaxPooling2D, Dense, Flatten, BatchNormalization, Dropout, LeakyReLU\n",
    "from tensorflow.keras.regularizers import L2"
   ]
  },
  {
   "cell_type": "code",
   "execution_count": 10,
   "metadata": {},
   "outputs": [
    {
     "name": "stdout",
     "output_type": "stream",
     "text": [
      "Model: \"sequential\"\n",
      "_________________________________________________________________\n",
      " Layer (type)                Output Shape              Param #   \n",
      "=================================================================\n",
      " conv2d (Conv2D)             (None, 150, 150, 16)      160       \n",
      "                                                                 \n",
      " batch_normalization (BatchN  (None, 150, 150, 16)     64        \n",
      " ormalization)                                                   \n",
      "                                                                 \n",
      " max_pooling2d (MaxPooling2D  (None, 74, 74, 16)       0         \n",
      " )                                                               \n",
      "                                                                 \n",
      " conv2d_1 (Conv2D)           (None, 74, 74, 32)        4640      \n",
      "                                                                 \n",
      " batch_normalization_1 (Batc  (None, 74, 74, 32)       128       \n",
      " hNormalization)                                                 \n",
      "                                                                 \n",
      " max_pooling2d_1 (MaxPooling  (None, 36, 36, 32)       0         \n",
      " 2D)                                                             \n",
      "                                                                 \n",
      " conv2d_2 (Conv2D)           (None, 36, 36, 64)        18496     \n",
      "                                                                 \n",
      " batch_normalization_2 (Batc  (None, 36, 36, 64)       256       \n",
      " hNormalization)                                                 \n",
      "                                                                 \n",
      " max_pooling2d_2 (MaxPooling  (None, 17, 17, 64)       0         \n",
      " 2D)                                                             \n",
      "                                                                 \n",
      " conv2d_3 (Conv2D)           (None, 17, 17, 128)       73856     \n",
      "                                                                 \n",
      " batch_normalization_3 (Batc  (None, 17, 17, 128)      512       \n",
      " hNormalization)                                                 \n",
      "                                                                 \n",
      " max_pooling2d_3 (MaxPooling  (None, 8, 8, 128)        0         \n",
      " 2D)                                                             \n",
      "                                                                 \n",
      " flatten (Flatten)           (None, 8192)              0         \n",
      "                                                                 \n",
      " dense (Dense)               (None, 128)               1048704   \n",
      "                                                                 \n",
      " batch_normalization_4 (Batc  (None, 128)              512       \n",
      " hNormalization)                                                 \n",
      "                                                                 \n",
      " dropout (Dropout)           (None, 128)               0         \n",
      "                                                                 \n",
      " dense_1 (Dense)             (None, 5)                 645       \n",
      "                                                                 \n",
      "=================================================================\n",
      "Total params: 1,147,973\n",
      "Trainable params: 1,147,237\n",
      "Non-trainable params: 736\n",
      "_________________________________________________________________\n"
     ]
    }
   ],
   "source": [
    "# Creating CNN model\n",
    "\n",
    "model = Sequential()\n",
    "model.add(Conv2D(16,kernel_size=(3,3),\n",
    "                 padding=\"same\",\n",
    "                 input_shape = (150,150,1),\n",
    "                 activation='relu', kernel_regularizer=L2(), kernel_initializer='he_normal'))\n",
    "model.add(BatchNormalization())\n",
    "model.add(MaxPooling2D(pool_size =(3,3),strides = (2,2)))\n",
    "model.add(Conv2D(32,kernel_size=(3,3),\n",
    "                 padding=\"same\",\n",
    "                 activation='relu', kernel_regularizer=L2(), kernel_initializer='he_normal'))\n",
    "model.add(BatchNormalization())\n",
    "model.add(MaxPooling2D(pool_size =(3,3),strides = (2,2)))\n",
    "model.add(Conv2D(64,kernel_size=(3,3),\n",
    "                 padding=\"same\",\n",
    "                 activation='relu', kernel_regularizer=L2(), kernel_initializer='he_normal'))\n",
    "model.add(BatchNormalization())\n",
    "model.add(MaxPooling2D(pool_size =(3,3),strides = (2,2)))\n",
    "model.add(Conv2D(128,kernel_size=(3,3),\n",
    "                 padding=\"same\",\n",
    "                 activation='relu', kernel_regularizer=L2(), kernel_initializer='he_normal'))\n",
    "model.add(BatchNormalization())\n",
    "model.add(MaxPooling2D(pool_size =(3,3),strides = (2,2)))\n",
    "\n",
    "model.add(Flatten())\n",
    "\n",
    "model.add(Dense(128,activation = 'relu', kernel_regularizer=L2(), kernel_initializer='he_normal'))\n",
    "model.add(BatchNormalization())\n",
    "model.add(Dropout(0.4))\n",
    "model.add(Dense(5,activation = 'softmax', kernel_regularizer=L2(), kernel_initializer='he_normal'))\n",
    "\n",
    "model.summary()"
   ]
  },
  {
   "cell_type": "code",
   "execution_count": 11,
   "metadata": {},
   "outputs": [],
   "source": [
    "# Loading the best result \n",
    "\n",
    "model.load_weights(\"./my_best_model.epoch943-accuracy0.96.hdf5\")"
   ]
  },
  {
   "cell_type": "code",
   "execution_count": 12,
   "metadata": {},
   "outputs": [
    {
     "data": {
      "text/html": [
       "<div>\n",
       "<style scoped>\n",
       "    .dataframe tbody tr th:only-of-type {\n",
       "        vertical-align: middle;\n",
       "    }\n",
       "\n",
       "    .dataframe tbody tr th {\n",
       "        vertical-align: top;\n",
       "    }\n",
       "\n",
       "    .dataframe thead th {\n",
       "        text-align: right;\n",
       "    }\n",
       "</style>\n",
       "<table border=\"1\" class=\"dataframe\">\n",
       "  <thead>\n",
       "    <tr style=\"text-align: right;\">\n",
       "      <th>col_0</th>\n",
       "      <th>0</th>\n",
       "      <th>1</th>\n",
       "      <th>2</th>\n",
       "      <th>3</th>\n",
       "      <th>4</th>\n",
       "    </tr>\n",
       "    <tr>\n",
       "      <th>row_0</th>\n",
       "      <th></th>\n",
       "      <th></th>\n",
       "      <th></th>\n",
       "      <th></th>\n",
       "      <th></th>\n",
       "    </tr>\n",
       "  </thead>\n",
       "  <tbody>\n",
       "    <tr>\n",
       "      <th>0</th>\n",
       "      <td>291</td>\n",
       "      <td>7</td>\n",
       "      <td>0</td>\n",
       "      <td>0</td>\n",
       "      <td>0</td>\n",
       "    </tr>\n",
       "    <tr>\n",
       "      <th>1</th>\n",
       "      <td>11</td>\n",
       "      <td>304</td>\n",
       "      <td>19</td>\n",
       "      <td>2</td>\n",
       "      <td>29</td>\n",
       "    </tr>\n",
       "    <tr>\n",
       "      <th>2</th>\n",
       "      <td>3</td>\n",
       "      <td>1</td>\n",
       "      <td>277</td>\n",
       "      <td>1</td>\n",
       "      <td>2</td>\n",
       "    </tr>\n",
       "    <tr>\n",
       "      <th>3</th>\n",
       "      <td>0</td>\n",
       "      <td>0</td>\n",
       "      <td>0</td>\n",
       "      <td>253</td>\n",
       "      <td>4</td>\n",
       "    </tr>\n",
       "    <tr>\n",
       "      <th>4</th>\n",
       "      <td>0</td>\n",
       "      <td>2</td>\n",
       "      <td>0</td>\n",
       "      <td>19</td>\n",
       "      <td>260</td>\n",
       "    </tr>\n",
       "  </tbody>\n",
       "</table>\n",
       "</div>"
      ],
      "text/plain": [
       "col_0    0    1    2    3    4\n",
       "row_0                         \n",
       "0      291    7    0    0    0\n",
       "1       11  304   19    2   29\n",
       "2        3    1  277    1    2\n",
       "3        0    0    0  253    4\n",
       "4        0    2    0   19  260"
      ]
     },
     "execution_count": 12,
     "metadata": {},
     "output_type": "execute_result"
    }
   ],
   "source": [
    "import pandas as pd\n",
    "\n",
    "# Creating crosstab table\n",
    "y_hat = model.predict(x_test).argmax(axis = 1)    \n",
    "y_actual = y_test.argmax(axis = 1)\n",
    "\n",
    "df_crosstab = pd.crosstab(y_hat,y_actual)\n",
    "df_crosstab"
   ]
  },
  {
   "cell_type": "code",
   "execution_count": 13,
   "metadata": {},
   "outputs": [
    {
     "name": "stdout",
     "output_type": "stream",
     "text": [
      "              precision    recall  f1-score   support\n",
      "\n",
      "     level 1     0.9765    0.9541    0.9652       305\n",
      "     level 2     0.8329    0.9682    0.8954       314\n",
      "     level 3     0.9754    0.9358    0.9552       296\n",
      "     level 4     0.9844    0.9200    0.9511       275\n",
      "     level 5     0.9253    0.8814    0.9028       295\n",
      "\n",
      "    accuracy                         0.9327      1485\n",
      "   macro avg     0.9389    0.9319    0.9339      1485\n",
      "weighted avg     0.9372    0.9327    0.9334      1485\n",
      "\n"
     ]
    }
   ],
   "source": [
    "from sklearn.metrics import classification_report\n",
    "\n",
    "# Showing classification result\n",
    "target_names = ['level 1', 'level 2', 'level 3','level 4', 'level 5']\n",
    "print(classification_report(y_actual,y_hat,target_names=target_names,digits = 4))"
   ]
  },
  {
   "cell_type": "code",
   "execution_count": 15,
   "metadata": {},
   "outputs": [
    {
     "data": {
      "text/plain": [
       "[Text(0.5, 30.5, 'Actual'),\n",
       " Text(48.5, 0.5, 'Predicted'),\n",
       " Text(0.5, 1.0, 'Model Prediction Result')]"
      ]
     },
     "execution_count": 15,
     "metadata": {},
     "output_type": "execute_result"
    },
    {
     "data": {
      "image/png": "[encoded data removed]",
      "text/plain": [
       "<Figure size 576x432 with 2 Axes>"
      ]
     },
     "metadata": {},
     "output_type": "display_data"
    }
   ],
   "source": [
    "import seaborn as sns\n",
    "import matplotlib.pyplot as plt\n",
    "# Heatmap showing model prediction result\n",
    "\n",
    "plt.rcParams['figure.figsize'] = (8,6)\n",
    "sns.set()\n",
    "ax = sns.heatmap(df_crosstab, annot = True, fmt=\"d\", cmap = 'Blues',xticklabels=[1,2,3,4,5], yticklabels=[1,2,3,4,5])\n",
    "ax.set(xlabel = 'Actual', ylabel = 'Predicted', title = 'Model Prediction Result')"
   ]
  },
  {
   "cell_type": "code",
   "execution_count": 16,
   "metadata": {},
   "outputs": [
    {
     "data": {
      "image/png": "[encoded data removed]",
      "text/plain": [
       "<Figure size 576x432 with 1 Axes>"
      ]
     },
     "metadata": {},
     "output_type": "display_data"
    }
   ],
   "source": [
    "import numpy as np\n",
    "import matplotlib.pyplot as plt\n",
    "from sklearn import svm, datasets\n",
    "from sklearn.metrics import roc_curve, auc\n",
    "from sklearn.preprocessing import label_binarize\n",
    "from sklearn.multiclass import OneVsRestClassifier\n",
    "\n",
    "\n",
    "# Plotting ROC curve\n",
    "\n",
    "fpr = dict()\n",
    "tpr = dict()\n",
    "roc_auc = dict()\n",
    "for i in range(5):\n",
    "    fpr[i], tpr[i], _ = roc_curve(y_test[:, i],model.predict(x_test)[:, i])\n",
    "    roc_auc[i] = auc(fpr[i], tpr[i])\n",
    "    \n",
    "fpr[\"micro\"], tpr[\"micro\"], _ = roc_curve(y_test.ravel(), model.predict(x_test).ravel())\n",
    "roc_auc[\"micro\"] = auc(fpr[\"micro\"], tpr[\"micro\"])\n",
    "\n",
    "for i in range(5):\n",
    "    plt.plot(fpr[i], tpr[i], label='ROC curve of class {0} (area = {1:0.2f})'\n",
    "                                   ''.format(i, roc_auc[i]))\n",
    "\n",
    "plt.plot([0, 1], [0, 1], 'k--')\n",
    "plt.xlim([0.0, 1.0])\n",
    "plt.ylim([0.0, 1.05])\n",
    "plt.xlabel('False Positive Rate')\n",
    "plt.ylabel('True Positive Rate')\n",
    "plt.title('ROC Curve')\n",
    "plt.legend(loc=\"lower right\")\n",
    "plt.show()\n"
   ]
  }
 ],
 "metadata": {
  "interpreter": {
   "hash": "3ea35e7bb191e28ec05b4b9f986d7c29640c5ed7a8ca7de0030c3f112ab20c9b"
  },
  "kernelspec": {
   "display_name": "Python 3.9.7 64-bit ('main': conda)",
   "language": "python",
   "name": "python3"
  },
  "language_info": {
   "codemirror_mode": {
    "name": "ipython",
    "version": 3
   },
   "file_extension": ".py",
   "mimetype": "text/x-python",
   "name": "python",
   "nbconvert_exporter": "python",
   "pygments_lexer": "ipython3",
   "version": "3.9.7"
  },
  "orig_nbformat": 4
 },
 "nbformat": 4,
 "nbformat_minor": 2
}
